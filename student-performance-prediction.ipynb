{
 "cells": [
  {
   "cell_type": "code",
   "execution_count": 1,
   "id": "117a1606-f997-4f13-ae27-16e4dc79b3e6",
   "metadata": {},
   "outputs": [],
   "source": [
    "import pandas as pd"
   ]
  },
  {
   "cell_type": "code",
   "execution_count": 2,
   "id": "a7cc87fd-d3c7-4740-8b27-d10c132da223",
   "metadata": {},
   "outputs": [
    {
     "data": {
      "text/html": [
       "<div>\n",
       "<style scoped>\n",
       "    .dataframe tbody tr th:only-of-type {\n",
       "        vertical-align: middle;\n",
       "    }\n",
       "\n",
       "    .dataframe tbody tr th {\n",
       "        vertical-align: top;\n",
       "    }\n",
       "\n",
       "    .dataframe thead th {\n",
       "        text-align: right;\n",
       "    }\n",
       "</style>\n",
       "<table border=\"1\" class=\"dataframe\">\n",
       "  <thead>\n",
       "    <tr style=\"text-align: right;\">\n",
       "      <th></th>\n",
       "      <th>Gender</th>\n",
       "      <th>Age</th>\n",
       "      <th>status</th>\n",
       "      <th>pass out</th>\n",
       "      <th>sboard</th>\n",
       "      <th>financial support</th>\n",
       "      <th>learning needs</th>\n",
       "      <th>10th grade</th>\n",
       "      <th>12th grade</th>\n",
       "      <th>CGPA</th>\n",
       "      <th>...</th>\n",
       "      <th>sem 2(MSc)</th>\n",
       "      <th>sem 3 (MSc)</th>\n",
       "      <th>attendance</th>\n",
       "      <th>hours per day</th>\n",
       "      <th>study motivation</th>\n",
       "      <th>extracurricular</th>\n",
       "      <th>study materials</th>\n",
       "      <th>mental health</th>\n",
       "      <th>using technology</th>\n",
       "      <th>peers</th>\n",
       "    </tr>\n",
       "  </thead>\n",
       "  <tbody>\n",
       "    <tr>\n",
       "      <th>0</th>\n",
       "      <td>Male.</td>\n",
       "      <td>22</td>\n",
       "      <td>Currently working., Student.</td>\n",
       "      <td>2024</td>\n",
       "      <td>State board of Maharashtra</td>\n",
       "      <td>Yes</td>\n",
       "      <td>No.</td>\n",
       "      <td>87.0</td>\n",
       "      <td>73.0</td>\n",
       "      <td>9.70</td>\n",
       "      <td>...</td>\n",
       "      <td>9.10</td>\n",
       "      <td>9.30</td>\n",
       "      <td>6</td>\n",
       "      <td>0.5</td>\n",
       "      <td>Exam cramming</td>\n",
       "      <td>Maybe</td>\n",
       "      <td>Yes</td>\n",
       "      <td>Balanced</td>\n",
       "      <td>Not comfortable at all</td>\n",
       "      <td>Pleasant</td>\n",
       "    </tr>\n",
       "    <tr>\n",
       "      <th>1</th>\n",
       "      <td>Female.</td>\n",
       "      <td>22</td>\n",
       "      <td>Student.</td>\n",
       "      <td>2024</td>\n",
       "      <td>State board of Maharashtra</td>\n",
       "      <td>Yes</td>\n",
       "      <td>No.</td>\n",
       "      <td>90.0</td>\n",
       "      <td>68.0</td>\n",
       "      <td>8.65</td>\n",
       "      <td>...</td>\n",
       "      <td>5.79</td>\n",
       "      <td>6.39</td>\n",
       "      <td>5</td>\n",
       "      <td>1.0</td>\n",
       "      <td>Exam cramming</td>\n",
       "      <td>Maybe</td>\n",
       "      <td>Yes</td>\n",
       "      <td>Balanced</td>\n",
       "      <td>Not comfortable at all</td>\n",
       "      <td>Pleasant</td>\n",
       "    </tr>\n",
       "    <tr>\n",
       "      <th>2</th>\n",
       "      <td>Female.</td>\n",
       "      <td>22</td>\n",
       "      <td>Student.</td>\n",
       "      <td>2024</td>\n",
       "      <td>State Board of Mumbai</td>\n",
       "      <td>Yes</td>\n",
       "      <td>No.</td>\n",
       "      <td>74.0</td>\n",
       "      <td>64.0</td>\n",
       "      <td>9.13</td>\n",
       "      <td>...</td>\n",
       "      <td>7.20</td>\n",
       "      <td>8.00</td>\n",
       "      <td>6</td>\n",
       "      <td>2.0</td>\n",
       "      <td>Consistent studying</td>\n",
       "      <td>Yes</td>\n",
       "      <td>No</td>\n",
       "      <td>Struggling</td>\n",
       "      <td>Not comfortable at all</td>\n",
       "      <td>Indifferent</td>\n",
       "    </tr>\n",
       "    <tr>\n",
       "      <th>3</th>\n",
       "      <td>Female.</td>\n",
       "      <td>22</td>\n",
       "      <td>Student.</td>\n",
       "      <td>2024</td>\n",
       "      <td>State board of Maharashtra</td>\n",
       "      <td>Yes</td>\n",
       "      <td>No.</td>\n",
       "      <td>93.0</td>\n",
       "      <td>84.0</td>\n",
       "      <td>9.00</td>\n",
       "      <td>...</td>\n",
       "      <td>8.90</td>\n",
       "      <td>9.10</td>\n",
       "      <td>6</td>\n",
       "      <td>1.0</td>\n",
       "      <td>Exam cramming</td>\n",
       "      <td>Yes</td>\n",
       "      <td>Yes</td>\n",
       "      <td>Struggling</td>\n",
       "      <td>comfortable</td>\n",
       "      <td>Pleasant</td>\n",
       "    </tr>\n",
       "    <tr>\n",
       "      <th>4</th>\n",
       "      <td>Female.</td>\n",
       "      <td>23</td>\n",
       "      <td>Student.</td>\n",
       "      <td>2024</td>\n",
       "      <td>State board of Maharashtra</td>\n",
       "      <td>Yes</td>\n",
       "      <td>No.</td>\n",
       "      <td>87.0</td>\n",
       "      <td>71.0</td>\n",
       "      <td>9.00</td>\n",
       "      <td>...</td>\n",
       "      <td>6.90</td>\n",
       "      <td>7.50</td>\n",
       "      <td>5</td>\n",
       "      <td>2.0</td>\n",
       "      <td>Consistent studying</td>\n",
       "      <td>Maybe</td>\n",
       "      <td>Yes</td>\n",
       "      <td>Balanced</td>\n",
       "      <td>comfortable</td>\n",
       "      <td>Pleasant</td>\n",
       "    </tr>\n",
       "  </tbody>\n",
       "</table>\n",
       "<p>5 rows × 21 columns</p>\n",
       "</div>"
      ],
      "text/plain": [
       "    Gender  Age                        status  pass out  \\\n",
       "0    Male.   22  Currently working., Student.      2024   \n",
       "1  Female.   22                      Student.      2024   \n",
       "2  Female.   22                      Student.      2024   \n",
       "3  Female.   22                      Student.      2024   \n",
       "4  Female.   23                      Student.      2024   \n",
       "\n",
       "                        sboard financial support  learning needs  10th grade   \\\n",
       "0  State board of Maharashtra                Yes             No.         87.0   \n",
       "1  State board of Maharashtra                Yes             No.         90.0   \n",
       "2       State Board of Mumbai                Yes             No.         74.0   \n",
       "3  State board of Maharashtra                Yes             No.         93.0   \n",
       "4  State board of Maharashtra                Yes             No.         87.0   \n",
       "\n",
       "   12th grade   CGPA  ...  sem 2(MSc)  sem 3 (MSc)   attendance  \\\n",
       "0         73.0  9.70  ...        9.10          9.30           6   \n",
       "1         68.0  8.65  ...        5.79          6.39           5   \n",
       "2         64.0  9.13  ...        7.20          8.00           6   \n",
       "3         84.0  9.00  ...        8.90          9.10           6   \n",
       "4         71.0  9.00  ...        6.90          7.50           5   \n",
       "\n",
       "   hours per day      study motivation  extracurricular   study materials  \\\n",
       "0             0.5        Exam cramming             Maybe              Yes   \n",
       "1             1.0        Exam cramming             Maybe              Yes   \n",
       "2             2.0  Consistent studying               Yes               No   \n",
       "3             1.0        Exam cramming               Yes              Yes   \n",
       "4             2.0  Consistent studying             Maybe              Yes   \n",
       "\n",
       "  mental health        using technology         peers  \n",
       "0      Balanced  Not comfortable at all      Pleasant  \n",
       "1      Balanced  Not comfortable at all      Pleasant  \n",
       "2    Struggling  Not comfortable at all  Indifferent   \n",
       "3    Struggling            comfortable       Pleasant  \n",
       "4      Balanced            comfortable       Pleasant  \n",
       "\n",
       "[5 rows x 21 columns]"
      ]
     },
     "execution_count": 2,
     "metadata": {},
     "output_type": "execute_result"
    }
   ],
   "source": [
    "df = pd.read_csv(r\"C:\\Users\\adity\\Downloads\\feedback123.csv\")\n",
    "df.head()"
   ]
  },
  {
   "cell_type": "code",
   "execution_count": 3,
   "id": "7aba798c-d3ae-42fb-aafb-79b8fd0736d4",
   "metadata": {},
   "outputs": [
    {
     "data": {
      "text/plain": [
       "array(['Gender', 'Age', 'status', 'pass out', ' sboard',\n",
       "       'financial support', ' learning needs', '10th grade ',\n",
       "       '12th grade ', 'CGPA', 'sem 1(MSc)', 'sem 2(MSc)', 'sem 3 (MSc) ',\n",
       "       'attendance', 'hours per day ', 'study motivation',\n",
       "       ' extracurricular ', ' study materials', 'mental health',\n",
       "       'using technology', 'peers'], dtype=object)"
      ]
     },
     "execution_count": 3,
     "metadata": {},
     "output_type": "execute_result"
    }
   ],
   "source": [
    "df.columns.values"
   ]
  },
  {
   "cell_type": "code",
   "execution_count": 4,
   "id": "bb434c8c-50c9-483c-92e5-1f81115ebde4",
   "metadata": {},
   "outputs": [
    {
     "name": "stdout",
     "output_type": "stream",
     "text": [
      "<class 'pandas.core.frame.DataFrame'>\n",
      "RangeIndex: 101 entries, 0 to 100\n",
      "Data columns (total 21 columns):\n",
      " #   Column             Non-Null Count  Dtype  \n",
      "---  ------             --------------  -----  \n",
      " 0   Gender             101 non-null    object \n",
      " 1   Age                101 non-null    int64  \n",
      " 2   status             101 non-null    object \n",
      " 3   pass out           101 non-null    int64  \n",
      " 4    sboard            101 non-null    object \n",
      " 5   financial support  101 non-null    object \n",
      " 6    learning needs    101 non-null    object \n",
      " 7   10th grade         101 non-null    float64\n",
      " 8   12th grade         101 non-null    float64\n",
      " 9   CGPA               101 non-null    float64\n",
      " 10  sem 1(MSc)         101 non-null    float64\n",
      " 11  sem 2(MSc)         101 non-null    float64\n",
      " 12  sem 3 (MSc)        101 non-null    float64\n",
      " 13  attendance         101 non-null    int64  \n",
      " 14  hours per day      101 non-null    float64\n",
      " 15  study motivation   101 non-null    object \n",
      " 16   extracurricular   101 non-null    object \n",
      " 17   study materials   101 non-null    object \n",
      " 18  mental health      101 non-null    object \n",
      " 19  using technology   101 non-null    object \n",
      " 20  peers              101 non-null    object \n",
      "dtypes: float64(7), int64(3), object(11)\n",
      "memory usage: 16.7+ KB\n"
     ]
    }
   ],
   "source": [
    "df.info()"
   ]
  },
  {
   "cell_type": "code",
   "execution_count": 5,
   "id": "1c493225-a046-4999-a69e-bde9ef5795c0",
   "metadata": {},
   "outputs": [
    {
     "data": {
      "text/html": [
       "<div>\n",
       "<style scoped>\n",
       "    .dataframe tbody tr th:only-of-type {\n",
       "        vertical-align: middle;\n",
       "    }\n",
       "\n",
       "    .dataframe tbody tr th {\n",
       "        vertical-align: top;\n",
       "    }\n",
       "\n",
       "    .dataframe thead th {\n",
       "        text-align: right;\n",
       "    }\n",
       "</style>\n",
       "<table border=\"1\" class=\"dataframe\">\n",
       "  <thead>\n",
       "    <tr style=\"text-align: right;\">\n",
       "      <th></th>\n",
       "      <th>Age</th>\n",
       "      <th>pass out</th>\n",
       "      <th>10th grade</th>\n",
       "      <th>12th grade</th>\n",
       "      <th>CGPA</th>\n",
       "      <th>sem 1(MSc)</th>\n",
       "      <th>sem 2(MSc)</th>\n",
       "      <th>sem 3 (MSc)</th>\n",
       "      <th>attendance</th>\n",
       "      <th>hours per day</th>\n",
       "    </tr>\n",
       "  </thead>\n",
       "  <tbody>\n",
       "    <tr>\n",
       "      <th>count</th>\n",
       "      <td>101.000000</td>\n",
       "      <td>101.000000</td>\n",
       "      <td>101.000000</td>\n",
       "      <td>101.000000</td>\n",
       "      <td>101.000000</td>\n",
       "      <td>101.000000</td>\n",
       "      <td>101.000000</td>\n",
       "      <td>101.000000</td>\n",
       "      <td>101.000000</td>\n",
       "      <td>101.000000</td>\n",
       "    </tr>\n",
       "    <tr>\n",
       "      <th>mean</th>\n",
       "      <td>23.584158</td>\n",
       "      <td>2023.376238</td>\n",
       "      <td>84.534059</td>\n",
       "      <td>68.716832</td>\n",
       "      <td>9.187228</td>\n",
       "      <td>7.378317</td>\n",
       "      <td>6.323564</td>\n",
       "      <td>6.013069</td>\n",
       "      <td>5.227723</td>\n",
       "      <td>2.024752</td>\n",
       "    </tr>\n",
       "    <tr>\n",
       "      <th>std</th>\n",
       "      <td>1.674917</td>\n",
       "      <td>1.047392</td>\n",
       "      <td>10.657728</td>\n",
       "      <td>11.768777</td>\n",
       "      <td>5.708314</td>\n",
       "      <td>6.287556</td>\n",
       "      <td>5.957078</td>\n",
       "      <td>3.013500</td>\n",
       "      <td>0.881830</td>\n",
       "      <td>0.922974</td>\n",
       "    </tr>\n",
       "    <tr>\n",
       "      <th>min</th>\n",
       "      <td>21.000000</td>\n",
       "      <td>2020.000000</td>\n",
       "      <td>9.000000</td>\n",
       "      <td>41.850000</td>\n",
       "      <td>5.830000</td>\n",
       "      <td>0.000000</td>\n",
       "      <td>0.000000</td>\n",
       "      <td>0.000000</td>\n",
       "      <td>1.000000</td>\n",
       "      <td>0.000000</td>\n",
       "    </tr>\n",
       "    <tr>\n",
       "      <th>25%</th>\n",
       "      <td>22.000000</td>\n",
       "      <td>2023.000000</td>\n",
       "      <td>82.000000</td>\n",
       "      <td>61.000000</td>\n",
       "      <td>8.000000</td>\n",
       "      <td>6.000000</td>\n",
       "      <td>5.300000</td>\n",
       "      <td>5.400000</td>\n",
       "      <td>5.000000</td>\n",
       "      <td>1.000000</td>\n",
       "    </tr>\n",
       "    <tr>\n",
       "      <th>50%</th>\n",
       "      <td>24.000000</td>\n",
       "      <td>2023.000000</td>\n",
       "      <td>87.000000</td>\n",
       "      <td>68.000000</td>\n",
       "      <td>9.000000</td>\n",
       "      <td>7.000000</td>\n",
       "      <td>6.210000</td>\n",
       "      <td>7.200000</td>\n",
       "      <td>5.000000</td>\n",
       "      <td>2.000000</td>\n",
       "    </tr>\n",
       "    <tr>\n",
       "      <th>75%</th>\n",
       "      <td>25.000000</td>\n",
       "      <td>2024.000000</td>\n",
       "      <td>90.000000</td>\n",
       "      <td>78.000000</td>\n",
       "      <td>9.440000</td>\n",
       "      <td>8.210000</td>\n",
       "      <td>7.550000</td>\n",
       "      <td>8.000000</td>\n",
       "      <td>6.000000</td>\n",
       "      <td>3.000000</td>\n",
       "    </tr>\n",
       "    <tr>\n",
       "      <th>max</th>\n",
       "      <td>29.000000</td>\n",
       "      <td>2025.000000</td>\n",
       "      <td>95.200000</td>\n",
       "      <td>91.000000</td>\n",
       "      <td>65.000000</td>\n",
       "      <td>67.000000</td>\n",
       "      <td>59.000000</td>\n",
       "      <td>9.850000</td>\n",
       "      <td>6.000000</td>\n",
       "      <td>5.000000</td>\n",
       "    </tr>\n",
       "  </tbody>\n",
       "</table>\n",
       "</div>"
      ],
      "text/plain": [
       "              Age     pass out  10th grade   12th grade         CGPA  \\\n",
       "count  101.000000   101.000000   101.000000   101.000000  101.000000   \n",
       "mean    23.584158  2023.376238    84.534059    68.716832    9.187228   \n",
       "std      1.674917     1.047392    10.657728    11.768777    5.708314   \n",
       "min     21.000000  2020.000000     9.000000    41.850000    5.830000   \n",
       "25%     22.000000  2023.000000    82.000000    61.000000    8.000000   \n",
       "50%     24.000000  2023.000000    87.000000    68.000000    9.000000   \n",
       "75%     25.000000  2024.000000    90.000000    78.000000    9.440000   \n",
       "max     29.000000  2025.000000    95.200000    91.000000   65.000000   \n",
       "\n",
       "       sem 1(MSc)  sem 2(MSc)  sem 3 (MSc)   attendance  hours per day   \n",
       "count  101.000000  101.000000    101.000000  101.000000      101.000000  \n",
       "mean     7.378317    6.323564      6.013069    5.227723        2.024752  \n",
       "std      6.287556    5.957078      3.013500    0.881830        0.922974  \n",
       "min      0.000000    0.000000      0.000000    1.000000        0.000000  \n",
       "25%      6.000000    5.300000      5.400000    5.000000        1.000000  \n",
       "50%      7.000000    6.210000      7.200000    5.000000        2.000000  \n",
       "75%      8.210000    7.550000      8.000000    6.000000        3.000000  \n",
       "max     67.000000   59.000000      9.850000    6.000000        5.000000  "
      ]
     },
     "execution_count": 5,
     "metadata": {},
     "output_type": "execute_result"
    }
   ],
   "source": [
    "df.describe()"
   ]
  },
  {
   "cell_type": "code",
   "execution_count": 6,
   "id": "cb7c970a-66ff-4e9b-87ac-1ebf72ecac5d",
   "metadata": {},
   "outputs": [
    {
     "data": {
      "text/plain": [
       "Gender               0\n",
       "Age                  0\n",
       "status               0\n",
       "pass out             0\n",
       " sboard              0\n",
       "financial support    0\n",
       " learning needs      0\n",
       "10th grade           0\n",
       "12th grade           0\n",
       "CGPA                 0\n",
       "sem 1(MSc)           0\n",
       "sem 2(MSc)           0\n",
       "sem 3 (MSc)          0\n",
       "attendance           0\n",
       "hours per day        0\n",
       "study motivation     0\n",
       " extracurricular     0\n",
       " study materials     0\n",
       "mental health        0\n",
       "using technology     0\n",
       "peers                0\n",
       "dtype: int64"
      ]
     },
     "execution_count": 6,
     "metadata": {},
     "output_type": "execute_result"
    }
   ],
   "source": [
    "df.isnull().sum()"
   ]
  },
  {
   "cell_type": "code",
   "execution_count": 7,
   "id": "56f2b256-acfb-4ff3-b336-cafb7a7359a4",
   "metadata": {},
   "outputs": [],
   "source": [
    "df.drop(' sboard',axis=1, inplace= True)"
   ]
  },
  {
   "cell_type": "code",
   "execution_count": 8,
   "id": "5f0b129e-231a-43a0-9179-fe637af6e9fc",
   "metadata": {},
   "outputs": [],
   "source": [
    "df.drop('using technology',axis=1, inplace= True)"
   ]
  },
  {
   "cell_type": "code",
   "execution_count": 9,
   "id": "f5cbb79b-4fff-46be-9a04-5d761c91cbd3",
   "metadata": {},
   "outputs": [],
   "source": [
    "df.drop('10th grade ',axis=1, inplace=True)"
   ]
  },
  {
   "cell_type": "code",
   "execution_count": 10,
   "id": "28a1943d-fda2-4879-b4c8-ebc66e3b5cd3",
   "metadata": {},
   "outputs": [],
   "source": [
    "df.drop('12th grade ',axis=1,inplace=True)"
   ]
  },
  {
   "cell_type": "code",
   "execution_count": 11,
   "id": "68b7e7a0-1d43-4cd1-bca5-3d282984a9ab",
   "metadata": {},
   "outputs": [],
   "source": [
    "df.drop('pass out',axis=1,inplace=True)"
   ]
  },
  {
   "cell_type": "code",
   "execution_count": 12,
   "id": "73da37f2-da5f-4fb4-9272-73d73a504e5a",
   "metadata": {},
   "outputs": [
    {
     "data": {
      "text/plain": [
       "Index(['Gender', 'Age', 'status', 'financial support', ' learning needs',\n",
       "       'CGPA', 'sem 1(MSc)', 'sem 2(MSc)', 'sem 3 (MSc) ', 'attendance',\n",
       "       'hours per day ', 'study motivation', ' extracurricular ',\n",
       "       ' study materials', 'mental health', 'peers'],\n",
       "      dtype='object')"
      ]
     },
     "execution_count": 12,
     "metadata": {},
     "output_type": "execute_result"
    }
   ],
   "source": [
    "df.columns"
   ]
  },
  {
   "cell_type": "code",
   "execution_count": 13,
   "id": "15ebae60-15b8-41dc-b89d-869bcd1733fb",
   "metadata": {},
   "outputs": [
    {
     "name": "stdout",
     "output_type": "stream",
     "text": [
      "<class 'pandas.core.frame.DataFrame'>\n",
      "RangeIndex: 101 entries, 0 to 100\n",
      "Data columns (total 16 columns):\n",
      " #   Column             Non-Null Count  Dtype  \n",
      "---  ------             --------------  -----  \n",
      " 0   Gender             101 non-null    object \n",
      " 1   Age                101 non-null    int64  \n",
      " 2   status             101 non-null    object \n",
      " 3   financial support  101 non-null    object \n",
      " 4    learning needs    101 non-null    object \n",
      " 5   CGPA               101 non-null    float64\n",
      " 6   sem 1(MSc)         101 non-null    float64\n",
      " 7   sem 2(MSc)         101 non-null    float64\n",
      " 8   sem 3 (MSc)        101 non-null    float64\n",
      " 9   attendance         101 non-null    int64  \n",
      " 10  hours per day      101 non-null    float64\n",
      " 11  study motivation   101 non-null    object \n",
      " 12   extracurricular   101 non-null    object \n",
      " 13   study materials   101 non-null    object \n",
      " 14  mental health      101 non-null    object \n",
      " 15  peers              101 non-null    object \n",
      "dtypes: float64(5), int64(2), object(9)\n",
      "memory usage: 12.8+ KB\n"
     ]
    }
   ],
   "source": [
    "df.info()"
   ]
  },
  {
   "cell_type": "code",
   "execution_count": 14,
   "id": "91f19281-ea9c-44fe-9f3b-4dfe63a68dde",
   "metadata": {},
   "outputs": [],
   "source": [
    "from sklearn.preprocessing import LabelEncoder\n",
    "from sklearn.preprocessing import OneHotEncoder"
   ]
  },
  {
   "cell_type": "code",
   "execution_count": 15,
   "id": "a71903af-cf16-4813-a2a3-f3fbf9ef7c08",
   "metadata": {},
   "outputs": [
    {
     "name": "stderr",
     "output_type": "stream",
     "text": [
      "C:\\Users\\adity\\anaconda3\\Lib\\site-packages\\sklearn\\preprocessing\\_encoders.py:972: FutureWarning: `sparse` was renamed to `sparse_output` in version 1.2 and will be removed in 1.4. `sparse_output` is ignored unless you leave `sparse` to its default value.\n",
      "  warnings.warn(\n"
     ]
    }
   ],
   "source": [
    "encoder = OneHotEncoder(sparse=False).set_output(transform='pandas')\n",
    "encoded_cols = encoder.fit_transform(df[['status']])\n",
    "encoded_df = pd.DataFrame(encoded_cols, columns=encoder.get_feature_names_out(['status']))\n",
    "df = pd.concat([df, encoded_df], axis=1).drop(columns = 'status')"
   ]
  },
  {
   "cell_type": "code",
   "execution_count": 16,
   "id": "708e56f2-1150-489d-9db8-a047d453cfc5",
   "metadata": {},
   "outputs": [
    {
     "name": "stderr",
     "output_type": "stream",
     "text": [
      "C:\\Users\\adity\\anaconda3\\Lib\\site-packages\\sklearn\\preprocessing\\_encoders.py:972: FutureWarning: `sparse` was renamed to `sparse_output` in version 1.2 and will be removed in 1.4. `sparse_output` is ignored unless you leave `sparse` to its default value.\n",
      "  warnings.warn(\n"
     ]
    }
   ],
   "source": [
    "encoder = OneHotEncoder(sparse=False).set_output(transform='pandas')\n",
    "encoded_cols = encoder.fit_transform(df[['Gender']])\n",
    "encoded_df = pd.DataFrame(encoded_cols, columns=encoder.get_feature_names_out(['Gender']))\n",
    "df = pd.concat([df, encoded_df], axis=1).drop(columns = 'Gender')"
   ]
  },
  {
   "cell_type": "code",
   "execution_count": 17,
   "id": "18fe0e7a-689b-4c4d-a0d1-11658d579f7a",
   "metadata": {},
   "outputs": [
    {
     "name": "stderr",
     "output_type": "stream",
     "text": [
      "C:\\Users\\adity\\anaconda3\\Lib\\site-packages\\sklearn\\preprocessing\\_encoders.py:972: FutureWarning: `sparse` was renamed to `sparse_output` in version 1.2 and will be removed in 1.4. `sparse_output` is ignored unless you leave `sparse` to its default value.\n",
      "  warnings.warn(\n"
     ]
    }
   ],
   "source": [
    "encoder = OneHotEncoder(sparse=False).set_output(transform='pandas')\n",
    "encoded_cols = encoder.fit_transform(df[['financial support']])\n",
    "encoded_df = pd.DataFrame(encoded_cols, columns=encoder.get_feature_names_out(['financial support']))\n",
    "df = pd.concat([df, encoded_df], axis=1).drop(columns = 'financial support')"
   ]
  },
  {
   "cell_type": "code",
   "execution_count": 18,
   "id": "199c1578-976b-4b3a-adfe-52892591c128",
   "metadata": {},
   "outputs": [
    {
     "name": "stderr",
     "output_type": "stream",
     "text": [
      "C:\\Users\\adity\\anaconda3\\Lib\\site-packages\\sklearn\\preprocessing\\_encoders.py:972: FutureWarning: `sparse` was renamed to `sparse_output` in version 1.2 and will be removed in 1.4. `sparse_output` is ignored unless you leave `sparse` to its default value.\n",
      "  warnings.warn(\n"
     ]
    }
   ],
   "source": [
    "encoder = OneHotEncoder(sparse=False).set_output(transform='pandas')\n",
    "encoded_cols = encoder.fit_transform(df[[' learning needs']])\n",
    "encoded_df = pd.DataFrame(encoded_cols, columns=encoder.get_feature_names_out([' learning needs']))\n",
    "df = pd.concat([df, encoded_df], axis=1).drop(columns = ' learning needs')"
   ]
  },
  {
   "cell_type": "code",
   "execution_count": 19,
   "id": "ef71de48-b885-4617-b30d-b8c6a1d18080",
   "metadata": {},
   "outputs": [
    {
     "name": "stderr",
     "output_type": "stream",
     "text": [
      "C:\\Users\\adity\\anaconda3\\Lib\\site-packages\\sklearn\\preprocessing\\_encoders.py:972: FutureWarning: `sparse` was renamed to `sparse_output` in version 1.2 and will be removed in 1.4. `sparse_output` is ignored unless you leave `sparse` to its default value.\n",
      "  warnings.warn(\n"
     ]
    }
   ],
   "source": [
    "encoder = OneHotEncoder(sparse=False).set_output(transform='pandas')\n",
    "encoded_cols = encoder.fit_transform(df[['study motivation']])\n",
    "encoded_df = pd.DataFrame(encoded_cols, columns=encoder.get_feature_names_out(['study motivation']))\n",
    "df = pd.concat([df, encoded_df], axis=1).drop(columns = 'study motivation')"
   ]
  },
  {
   "cell_type": "code",
   "execution_count": 20,
   "id": "cc3a3542-3b45-44c5-8677-bf4b15710c41",
   "metadata": {},
   "outputs": [
    {
     "name": "stderr",
     "output_type": "stream",
     "text": [
      "C:\\Users\\adity\\anaconda3\\Lib\\site-packages\\sklearn\\preprocessing\\_encoders.py:972: FutureWarning: `sparse` was renamed to `sparse_output` in version 1.2 and will be removed in 1.4. `sparse_output` is ignored unless you leave `sparse` to its default value.\n",
      "  warnings.warn(\n"
     ]
    }
   ],
   "source": [
    "encoder = OneHotEncoder(sparse=False).set_output(transform='pandas')\n",
    "encoded_cols = encoder.fit_transform(df[[' extracurricular ']])\n",
    "encoded_df = pd.DataFrame(encoded_cols, columns=encoder.get_feature_names_out([' extracurricular ']))\n",
    "df = pd.concat([df, encoded_df], axis=1).drop(columns = ' extracurricular ')"
   ]
  },
  {
   "cell_type": "code",
   "execution_count": 21,
   "id": "5dc96508-7f96-409d-9285-076d36e43f52",
   "metadata": {},
   "outputs": [
    {
     "name": "stderr",
     "output_type": "stream",
     "text": [
      "C:\\Users\\adity\\anaconda3\\Lib\\site-packages\\sklearn\\preprocessing\\_encoders.py:972: FutureWarning: `sparse` was renamed to `sparse_output` in version 1.2 and will be removed in 1.4. `sparse_output` is ignored unless you leave `sparse` to its default value.\n",
      "  warnings.warn(\n"
     ]
    }
   ],
   "source": [
    "encoder = OneHotEncoder(sparse=False).set_output(transform='pandas')\n",
    "encoded_cols = encoder.fit_transform(df[[' study materials']])\n",
    "encoded_df = pd.DataFrame(encoded_cols, columns=encoder.get_feature_names_out([' study materials']))\n",
    "df = pd.concat([df, encoded_df], axis=1).drop(columns = ' study materials')"
   ]
  },
  {
   "cell_type": "code",
   "execution_count": 22,
   "id": "1faa36fa-c728-4c1a-8395-beba89827262",
   "metadata": {},
   "outputs": [
    {
     "name": "stderr",
     "output_type": "stream",
     "text": [
      "C:\\Users\\adity\\anaconda3\\Lib\\site-packages\\sklearn\\preprocessing\\_encoders.py:972: FutureWarning: `sparse` was renamed to `sparse_output` in version 1.2 and will be removed in 1.4. `sparse_output` is ignored unless you leave `sparse` to its default value.\n",
      "  warnings.warn(\n"
     ]
    }
   ],
   "source": [
    "encoder = OneHotEncoder(sparse=False).set_output(transform='pandas')\n",
    "encoded_cols = encoder.fit_transform(df[['mental health']])\n",
    "encoded_df = pd.DataFrame(encoded_cols, columns=encoder.get_feature_names_out(['mental health']))\n",
    "df = pd.concat([df, encoded_df], axis=1).drop(columns = 'mental health')"
   ]
  },
  {
   "cell_type": "code",
   "execution_count": 23,
   "id": "b91c1a44-1875-4be1-a664-8ad2637de883",
   "metadata": {},
   "outputs": [
    {
     "name": "stderr",
     "output_type": "stream",
     "text": [
      "C:\\Users\\adity\\anaconda3\\Lib\\site-packages\\sklearn\\preprocessing\\_encoders.py:972: FutureWarning: `sparse` was renamed to `sparse_output` in version 1.2 and will be removed in 1.4. `sparse_output` is ignored unless you leave `sparse` to its default value.\n",
      "  warnings.warn(\n"
     ]
    }
   ],
   "source": [
    "encoder = OneHotEncoder(sparse=False).set_output(transform='pandas')\n",
    "encoded_cols = encoder.fit_transform(df[['peers']])\n",
    "encoded_df = pd.DataFrame(encoded_cols, columns=encoder.get_feature_names_out(['peers']))\n",
    "df = pd.concat([df, encoded_df], axis=1).drop(columns = 'peers')"
   ]
  },
  {
   "cell_type": "code",
   "execution_count": 24,
   "id": "793f7100-2a88-4f44-9905-eba617b57044",
   "metadata": {},
   "outputs": [
    {
     "name": "stdout",
     "output_type": "stream",
     "text": [
      "<class 'pandas.core.frame.DataFrame'>\n",
      "RangeIndex: 101 entries, 0 to 100\n",
      "Data columns (total 29 columns):\n",
      " #   Column                                Non-Null Count  Dtype  \n",
      "---  ------                                --------------  -----  \n",
      " 0   Age                                   101 non-null    int64  \n",
      " 1   CGPA                                  101 non-null    float64\n",
      " 2   sem 1(MSc)                            101 non-null    float64\n",
      " 3   sem 2(MSc)                            101 non-null    float64\n",
      " 4   sem 3 (MSc)                           101 non-null    float64\n",
      " 5   attendance                            101 non-null    int64  \n",
      " 6   hours per day                         101 non-null    float64\n",
      " 7   status_Currently Working.             101 non-null    float64\n",
      " 8   status_Currently working.             101 non-null    float64\n",
      " 9   status_Currently working., Student.   101 non-null    float64\n",
      " 10  status_Student.                       101 non-null    float64\n",
      " 11  Gender_Female.                        101 non-null    float64\n",
      " 12  Gender_Male.                          101 non-null    float64\n",
      " 13  financial support_No                  101 non-null    float64\n",
      " 14  financial support_Yes                 101 non-null    float64\n",
      " 15   learning needs_No.                   101 non-null    float64\n",
      " 16   learning needs_Yes.                  101 non-null    float64\n",
      " 17  study motivation_Consistent studying  101 non-null    float64\n",
      " 18  study motivation_Exam cramming        101 non-null    float64\n",
      " 19   extracurricular _Maybe               101 non-null    float64\n",
      " 20   extracurricular _No                  101 non-null    float64\n",
      " 21   extracurricular _Yes                 101 non-null    float64\n",
      " 22   study materials_No                   101 non-null    float64\n",
      " 23   study materials_Yes                  101 non-null    float64\n",
      " 24  mental health_Balanced                101 non-null    float64\n",
      " 25  mental health_Struggling              101 non-null    float64\n",
      " 26  peers_Indifferent                     101 non-null    float64\n",
      " 27  peers_Pleasant                        101 non-null    float64\n",
      " 28  peers_Unpleasant                      101 non-null    float64\n",
      "dtypes: float64(27), int64(2)\n",
      "memory usage: 23.0 KB\n"
     ]
    }
   ],
   "source": [
    "df.info()"
   ]
  },
  {
   "cell_type": "code",
   "execution_count": 25,
   "id": "aa8aea25-b87d-4242-8e3a-e64d7aa5d185",
   "metadata": {},
   "outputs": [
    {
     "data": {
      "text/html": [
       "<div>\n",
       "<style scoped>\n",
       "    .dataframe tbody tr th:only-of-type {\n",
       "        vertical-align: middle;\n",
       "    }\n",
       "\n",
       "    .dataframe tbody tr th {\n",
       "        vertical-align: top;\n",
       "    }\n",
       "\n",
       "    .dataframe thead th {\n",
       "        text-align: right;\n",
       "    }\n",
       "</style>\n",
       "<table border=\"1\" class=\"dataframe\">\n",
       "  <thead>\n",
       "    <tr style=\"text-align: right;\">\n",
       "      <th></th>\n",
       "      <th>Age</th>\n",
       "      <th>CGPA</th>\n",
       "      <th>sem 1(MSc)</th>\n",
       "      <th>sem 2(MSc)</th>\n",
       "      <th>sem 3 (MSc)</th>\n",
       "      <th>attendance</th>\n",
       "      <th>hours per day</th>\n",
       "      <th>status_Currently Working.</th>\n",
       "      <th>status_Currently working.</th>\n",
       "      <th>status_Currently working., Student.</th>\n",
       "      <th>...</th>\n",
       "      <th>extracurricular _Maybe</th>\n",
       "      <th>extracurricular _No</th>\n",
       "      <th>extracurricular _Yes</th>\n",
       "      <th>study materials_No</th>\n",
       "      <th>study materials_Yes</th>\n",
       "      <th>mental health_Balanced</th>\n",
       "      <th>mental health_Struggling</th>\n",
       "      <th>peers_Indifferent</th>\n",
       "      <th>peers_Pleasant</th>\n",
       "      <th>peers_Unpleasant</th>\n",
       "    </tr>\n",
       "  </thead>\n",
       "  <tbody>\n",
       "    <tr>\n",
       "      <th>0</th>\n",
       "      <td>22</td>\n",
       "      <td>9.70</td>\n",
       "      <td>9.50</td>\n",
       "      <td>9.10</td>\n",
       "      <td>9.30</td>\n",
       "      <td>6</td>\n",
       "      <td>0.5</td>\n",
       "      <td>0.0</td>\n",
       "      <td>0.0</td>\n",
       "      <td>1.0</td>\n",
       "      <td>...</td>\n",
       "      <td>1.0</td>\n",
       "      <td>0.0</td>\n",
       "      <td>0.0</td>\n",
       "      <td>0.0</td>\n",
       "      <td>1.0</td>\n",
       "      <td>1.0</td>\n",
       "      <td>0.0</td>\n",
       "      <td>0.0</td>\n",
       "      <td>1.0</td>\n",
       "      <td>0.0</td>\n",
       "    </tr>\n",
       "    <tr>\n",
       "      <th>1</th>\n",
       "      <td>22</td>\n",
       "      <td>8.65</td>\n",
       "      <td>6.07</td>\n",
       "      <td>5.79</td>\n",
       "      <td>6.39</td>\n",
       "      <td>5</td>\n",
       "      <td>1.0</td>\n",
       "      <td>0.0</td>\n",
       "      <td>0.0</td>\n",
       "      <td>0.0</td>\n",
       "      <td>...</td>\n",
       "      <td>1.0</td>\n",
       "      <td>0.0</td>\n",
       "      <td>0.0</td>\n",
       "      <td>0.0</td>\n",
       "      <td>1.0</td>\n",
       "      <td>1.0</td>\n",
       "      <td>0.0</td>\n",
       "      <td>0.0</td>\n",
       "      <td>1.0</td>\n",
       "      <td>0.0</td>\n",
       "    </tr>\n",
       "    <tr>\n",
       "      <th>2</th>\n",
       "      <td>22</td>\n",
       "      <td>9.13</td>\n",
       "      <td>7.50</td>\n",
       "      <td>7.20</td>\n",
       "      <td>8.00</td>\n",
       "      <td>6</td>\n",
       "      <td>2.0</td>\n",
       "      <td>0.0</td>\n",
       "      <td>0.0</td>\n",
       "      <td>0.0</td>\n",
       "      <td>...</td>\n",
       "      <td>0.0</td>\n",
       "      <td>0.0</td>\n",
       "      <td>1.0</td>\n",
       "      <td>1.0</td>\n",
       "      <td>0.0</td>\n",
       "      <td>0.0</td>\n",
       "      <td>1.0</td>\n",
       "      <td>1.0</td>\n",
       "      <td>0.0</td>\n",
       "      <td>0.0</td>\n",
       "    </tr>\n",
       "    <tr>\n",
       "      <th>3</th>\n",
       "      <td>22</td>\n",
       "      <td>9.00</td>\n",
       "      <td>8.70</td>\n",
       "      <td>8.90</td>\n",
       "      <td>9.10</td>\n",
       "      <td>6</td>\n",
       "      <td>1.0</td>\n",
       "      <td>0.0</td>\n",
       "      <td>0.0</td>\n",
       "      <td>0.0</td>\n",
       "      <td>...</td>\n",
       "      <td>0.0</td>\n",
       "      <td>0.0</td>\n",
       "      <td>1.0</td>\n",
       "      <td>0.0</td>\n",
       "      <td>1.0</td>\n",
       "      <td>0.0</td>\n",
       "      <td>1.0</td>\n",
       "      <td>0.0</td>\n",
       "      <td>1.0</td>\n",
       "      <td>0.0</td>\n",
       "    </tr>\n",
       "    <tr>\n",
       "      <th>4</th>\n",
       "      <td>23</td>\n",
       "      <td>9.00</td>\n",
       "      <td>7.00</td>\n",
       "      <td>6.90</td>\n",
       "      <td>7.50</td>\n",
       "      <td>5</td>\n",
       "      <td>2.0</td>\n",
       "      <td>0.0</td>\n",
       "      <td>0.0</td>\n",
       "      <td>0.0</td>\n",
       "      <td>...</td>\n",
       "      <td>1.0</td>\n",
       "      <td>0.0</td>\n",
       "      <td>0.0</td>\n",
       "      <td>0.0</td>\n",
       "      <td>1.0</td>\n",
       "      <td>1.0</td>\n",
       "      <td>0.0</td>\n",
       "      <td>0.0</td>\n",
       "      <td>1.0</td>\n",
       "      <td>0.0</td>\n",
       "    </tr>\n",
       "  </tbody>\n",
       "</table>\n",
       "<p>5 rows × 29 columns</p>\n",
       "</div>"
      ],
      "text/plain": [
       "   Age  CGPA  sem 1(MSc)  sem 2(MSc)  sem 3 (MSc)   attendance  \\\n",
       "0   22  9.70        9.50        9.10          9.30           6   \n",
       "1   22  8.65        6.07        5.79          6.39           5   \n",
       "2   22  9.13        7.50        7.20          8.00           6   \n",
       "3   22  9.00        8.70        8.90          9.10           6   \n",
       "4   23  9.00        7.00        6.90          7.50           5   \n",
       "\n",
       "   hours per day   status_Currently Working.  status_Currently working.  \\\n",
       "0             0.5                        0.0                        0.0   \n",
       "1             1.0                        0.0                        0.0   \n",
       "2             2.0                        0.0                        0.0   \n",
       "3             1.0                        0.0                        0.0   \n",
       "4             2.0                        0.0                        0.0   \n",
       "\n",
       "   status_Currently working., Student.  ...   extracurricular _Maybe  \\\n",
       "0                                  1.0  ...                      1.0   \n",
       "1                                  0.0  ...                      1.0   \n",
       "2                                  0.0  ...                      0.0   \n",
       "3                                  0.0  ...                      0.0   \n",
       "4                                  0.0  ...                      1.0   \n",
       "\n",
       "    extracurricular _No   extracurricular _Yes   study materials_No  \\\n",
       "0                   0.0                    0.0                  0.0   \n",
       "1                   0.0                    0.0                  0.0   \n",
       "2                   0.0                    1.0                  1.0   \n",
       "3                   0.0                    1.0                  0.0   \n",
       "4                   0.0                    0.0                  0.0   \n",
       "\n",
       "    study materials_Yes  mental health_Balanced  mental health_Struggling  \\\n",
       "0                   1.0                     1.0                       0.0   \n",
       "1                   1.0                     1.0                       0.0   \n",
       "2                   0.0                     0.0                       1.0   \n",
       "3                   1.0                     0.0                       1.0   \n",
       "4                   1.0                     1.0                       0.0   \n",
       "\n",
       "   peers_Indifferent   peers_Pleasant  peers_Unpleasant  \n",
       "0                 0.0             1.0               0.0  \n",
       "1                 0.0             1.0               0.0  \n",
       "2                 1.0             0.0               0.0  \n",
       "3                 0.0             1.0               0.0  \n",
       "4                 0.0             1.0               0.0  \n",
       "\n",
       "[5 rows x 29 columns]"
      ]
     },
     "execution_count": 25,
     "metadata": {},
     "output_type": "execute_result"
    }
   ],
   "source": [
    "df.head()"
   ]
  },
  {
   "cell_type": "code",
   "execution_count": 26,
   "id": "fc52215c-1af3-42b6-9c3f-630e59f91be4",
   "metadata": {},
   "outputs": [
    {
     "data": {
      "text/plain": [
       "array(['Age', 'CGPA', 'sem 1(MSc)', 'sem 2(MSc)', 'sem 3 (MSc) ',\n",
       "       'attendance', 'hours per day ', 'status_Currently Working.',\n",
       "       'status_Currently working.', 'status_Currently working., Student.',\n",
       "       'status_Student.', 'Gender_Female.', 'Gender_Male.',\n",
       "       'financial support_No', 'financial support_Yes',\n",
       "       ' learning needs_No.', ' learning needs_Yes.',\n",
       "       'study motivation_Consistent studying',\n",
       "       'study motivation_Exam cramming', ' extracurricular _Maybe',\n",
       "       ' extracurricular _No', ' extracurricular _Yes',\n",
       "       ' study materials_No', ' study materials_Yes',\n",
       "       'mental health_Balanced', 'mental health_Struggling',\n",
       "       'peers_Indifferent ', 'peers_Pleasant', 'peers_Unpleasant'],\n",
       "      dtype=object)"
      ]
     },
     "execution_count": 26,
     "metadata": {},
     "output_type": "execute_result"
    }
   ],
   "source": [
    "df.columns.values"
   ]
  },
  {
   "cell_type": "code",
   "execution_count": 27,
   "id": "5c7a1c85-dcb6-4bcb-a54d-b058d2633299",
   "metadata": {},
   "outputs": [],
   "source": [
    "X = df[['Age', 'CGPA', 'sem 1(MSc)', 'sem 2(MSc)','attendance',\n",
    "       'hours per day ', 'status_Currently working.',\n",
    "       'status_Student.', 'Gender_Female.', 'Gender_Male.',\n",
    "       'financial support_No', 'financial support_Yes', ' learning needs_No.',\n",
    "       ' learning needs_Yes.', 'study motivation_Consistent studying',\n",
    "       'study motivation_Exam cramming', ' extracurricular _Maybe',\n",
    "       ' extracurricular _No', ' extracurricular _Yes', ' study materials_No',\n",
    "       ' study materials_Yes', 'mental health_Balanced',\n",
    "       'mental health_Struggling', 'peers_Indifferent ', 'peers_Pleasant',\n",
    "       'peers_Unpleasant']]\n",
    "\n",
    "y = df['sem 3 (MSc) ']"
   ]
  },
  {
   "cell_type": "code",
   "execution_count": 28,
   "id": "2fe4b1aa-cfc4-4816-944a-84607369b4d3",
   "metadata": {},
   "outputs": [],
   "source": [
    "from sklearn.model_selection import train_test_split"
   ]
  },
  {
   "cell_type": "code",
   "execution_count": 29,
   "id": "779a117e-6419-4d92-8c63-f44eca53e419",
   "metadata": {},
   "outputs": [],
   "source": [
    "X_train, X_test, y_train, y_test = train_test_split(X, y, test_size=0.2, random_state=42)"
   ]
  },
  {
   "cell_type": "code",
   "execution_count": 30,
   "id": "d23927bb-fa99-4aae-b409-fb5bb036f88e",
   "metadata": {},
   "outputs": [],
   "source": [
    "from sklearn.ensemble import RandomForestRegressor"
   ]
  },
  {
   "cell_type": "code",
   "execution_count": 31,
   "id": "042235a7-3562-410a-8c52-b19541296832",
   "metadata": {},
   "outputs": [],
   "source": [
    "rf_regressor = RandomForestRegressor(n_estimators=100, random_state=42)\n",
    "a=rf_regressor.fit(X_train, y_train)"
   ]
  },
  {
   "cell_type": "code",
   "execution_count": 32,
   "id": "fa6b935a-a882-43fb-8d23-e760e8143aac",
   "metadata": {},
   "outputs": [
    {
     "data": {
      "text/plain": [
       "array([7.4353, 8.7121, 7.3564, 7.5783, 8.8739])"
      ]
     },
     "execution_count": 32,
     "metadata": {},
     "output_type": "execute_result"
    }
   ],
   "source": [
    "y_pred = a.predict(X_test)\n",
    "y_pred[:5]"
   ]
  },
  {
   "cell_type": "code",
   "execution_count": 33,
   "id": "f9495eb4-044d-4f8f-b57a-63c05388143a",
   "metadata": {},
   "outputs": [],
   "source": [
    "from sklearn.metrics import mean_squared_error, r2_score"
   ]
  },
  {
   "cell_type": "code",
   "execution_count": 34,
   "id": "1470cd5f-c38e-4dc7-8d87-517986f079c0",
   "metadata": {},
   "outputs": [
    {
     "name": "stdout",
     "output_type": "stream",
     "text": [
      "0.8215129749505373\n"
     ]
    }
   ],
   "source": [
    "mse= mean_squared_error(y_test, y_pred)\n",
    "r2 = r2_score(y_test, y_pred)\n",
    "print(r2)"
   ]
  },
  {
   "cell_type": "code",
   "execution_count": 35,
   "id": "2f0b80b5-b0cc-4abb-a7c6-e88e2f87a03b",
   "metadata": {},
   "outputs": [],
   "source": [
    "import pickle"
   ]
  },
  {
   "cell_type": "code",
   "execution_count": 36,
   "id": "e3b2bdbb-606f-4259-a8a6-fcd1095adaef",
   "metadata": {},
   "outputs": [],
   "source": [
    "with open('model.pkl', 'wb') as f:\n",
    "    pickle.dump(a, f)"
   ]
  }
 ],
 "metadata": {
  "kernelspec": {
   "display_name": "Python 3 (ipykernel)",
   "language": "python",
   "name": "python3"
  },
  "language_info": {
   "codemirror_mode": {
    "name": "ipython",
    "version": 3
   },
   "file_extension": ".py",
   "mimetype": "text/x-python",
   "name": "python",
   "nbconvert_exporter": "python",
   "pygments_lexer": "ipython3",
   "version": "3.11.5"
  }
 },
 "nbformat": 4,
 "nbformat_minor": 5
}
